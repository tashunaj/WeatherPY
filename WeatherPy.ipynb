{
 "cells": [
  {
   "cell_type": "markdown",
   "metadata": {},
   "source": [
    "# WeatherPy\n",
    "----\n",
    "\n",
    "#### Note\n",
    "* Instructions have been included for each segment. You do not have to follow them exactly, but they are included to help you think through the steps."
   ]
  },
  {
   "cell_type": "code",
   "execution_count": 1,
   "metadata": {
    "scrolled": true
   },
   "outputs": [],
   "source": [
    "# Dependencies and Setup\n",
    "import matplotlib.pyplot as plt\n",
    "import pandas as pd\n",
    "import numpy as np\n",
    "import requests\n",
    "import time\n",
    "from scipy.stats import linregress\n",
    "import json\n",
    "import datetime\n",
    "\n",
    "\n",
    "# Import API key\n",
    "from api_keys import weather_api_key\n",
    "\n",
    "\n",
    "\n",
    "# Incorporated citipy to determine city based on latitude and longitude\n",
    "from citipy import citipy\n",
    "\n",
    "# Output File (CSV)\n",
    "output_data_file = \"output_data/cities.csv\"\n",
    "\n",
    "# Range of latitudes and longitudes\n",
    "lat_range = (-90, 90)\n",
    "lng_range = (-180, 180)\n",
    "\n",
    "\n",
    "\n"
   ]
  },
  {
   "cell_type": "markdown",
   "metadata": {},
   "source": [
    "## Generate Cities List"
   ]
  },
  {
   "cell_type": "code",
   "execution_count": 2,
   "metadata": {},
   "outputs": [
    {
     "data": {
      "text/plain": [
       "613"
      ]
     },
     "execution_count": 2,
     "metadata": {},
     "output_type": "execute_result"
    }
   ],
   "source": [
    "# List for holding lat_lngs and cities\n",
    "lat_lngs = []\n",
    "cities = []\n",
    "\n",
    "# Create a set of random lat and lng combinations\n",
    "lats = np.random.uniform(low=-90.00, high=90.00, size=1500)\n",
    "lngs = np.random.uniform(low=-180.00, high=180.00, size=1500)\n",
    "lat_lngs = zip(lats, lngs)\n",
    "\n",
    "saved_lats=[]\n",
    "saved_lngs=[]\n",
    "\n",
    "# Identify nearest city for each lat, lng combination\n",
    "for lat_lng in lat_lngs:\n",
    "    city = citipy.nearest_city(lat_lng[0], lat_lng[1]).city_name\n",
    "    \n",
    "    # If the city is unique, then add it to a our cities list\n",
    "    if city not in cities:\n",
    "        cities.append(city)\n",
    "        saved_lats.append(lat_lng[0])\n",
    "        saved_lngs.append(lat_lng[1])\n",
    "\n",
    "\n",
    "\n",
    "# Print the city count to confirm sufficient count\n",
    "len(cities)\n",
    "\n"
   ]
  },
  {
   "cell_type": "markdown",
   "metadata": {},
   "source": [
    "### Perform API Calls\n",
    "* Perform a weather check on each city using a series of successive API calls.\n",
    "* Include a print log of each city as it'sbeing processed (with the city number and city name).\n"
   ]
  },
  {
   "cell_type": "code",
   "execution_count": 3,
   "metadata": {},
   "outputs": [
    {
     "name": "stdout",
     "output_type": "stream",
     "text": [
      "Beginning Data Retrieval\n",
      "City not found.\n",
      "City not found.\n",
      "Processing Record 1 | tabuk\n",
      "Processing Record 2 | butaritari\n",
      "City not found.\n",
      "Processing Record 3 | vaini\n",
      "Processing Record 4 | kaitangata\n",
      "Processing Record 5 | ushuaia\n",
      "Processing Record 6 | genhe\n",
      "Processing Record 7 | hasaki\n",
      "Processing Record 8 | tuktoyaktuk\n",
      "City not found.\n",
      "Processing Record 9 | poum\n",
      "Processing Record 10 | victoria\n",
      "Processing Record 11 | goderich\n",
      "Processing Record 12 | khatanga\n",
      "City not found.\n",
      "Processing Record 13 | rikitea\n",
      "City not found.\n",
      "Processing Record 14 | vila\n",
      "Processing Record 15 | te anau\n",
      "Processing Record 16 | pevek\n",
      "Processing Record 17 | hofn\n",
      "City not found.\n",
      "Processing Record 18 | upernavik\n",
      "City not found.\n",
      "Processing Record 19 | jamestown\n",
      "City not found.\n",
      "City not found.\n",
      "Processing Record 20 | olafsvik\n",
      "Processing Record 21 | illoqqortoormiut\n",
      "City not found.\n",
      "City not found.\n",
      "Processing Record 22 | punta arenas\n",
      "Processing Record 23 | hobart\n",
      "City not found.\n",
      "City not found.\n",
      "Processing Record 24 | mar del plata\n",
      "City not found.\n",
      "Processing Record 25 | bambous virieux\n",
      "Processing Record 26 | sao joao da barra\n",
      "Processing Record 27 | belushya guba\n",
      "Processing Record 28 | puerto ayora\n",
      "City not found.\n",
      "Processing Record 29 | albany\n",
      "Processing Record 30 | cabo san lucas\n",
      "Processing Record 31 | barrow\n",
      "Processing Record 32 | aklavik\n",
      "Processing Record 33 | mataura\n",
      "City not found.\n",
      "City not found.\n",
      "Processing Record 34 | ponta do sol\n",
      "Processing Record 35 | barentsburg\n",
      "City not found.\n",
      "Processing Record 36 | kapaa\n",
      "Processing Record 37 | carnarvon\n",
      "City not found.\n",
      "Processing Record 38 | busselton\n",
      "City not found.\n",
      "Processing Record 39 | tsihombe\n",
      "City not found.\n",
      "Processing Record 40 | mys shmidta\n",
      "Processing Record 41 | paamiut\n",
      "City not found.\n",
      "Processing Record 42 | pacific grove\n",
      "Processing Record 43 | brae\n",
      "Processing Record 44 | east london\n",
      "Processing Record 45 | nizhneyansk\n",
      "City not found.\n",
      "Processing Record 46 | hokitika\n",
      "City not found.\n",
      "Processing Record 47 | lorengau\n",
      "Processing Record 48 | geraldton\n",
      "Processing Record 49 | hilo\n",
      "Processing Record 50 | chuy\n",
      "Processing Record 51 | sur\n",
      "City not found.\n",
      "Processing Record 52 | talnakh\n",
      "Processing Record 53 | hambantota\n",
      "Processing Record 54 | hermanus\n",
      "City not found.\n",
      "City not found.\n",
      "City not found.\n",
      "City not found.\n",
      "City not found.\n",
      "Processing Record 55 | moranbah\n",
      "City not found.\n",
      "Processing Record 56 | yellowknife\n",
      "Processing Record 57 | bredasdorp\n",
      "City not found.\n",
      "City not found.\n",
      "Processing Record 58 | atuona\n",
      "Processing Record 59 | nouadhibou\n",
      "City not found.\n",
      "Processing Record 60 | bluff\n",
      "Processing Record 61 | naze\n",
      "City not found.\n",
      "City not found.\n",
      "City not found.\n",
      "City not found.\n",
      "City not found.\n",
      "Processing Record 62 | qaanaaq\n",
      "City not found.\n",
      "City not found.\n",
      "Processing Record 63 | cayenne\n",
      "Processing Record 64 | alice springs\n",
      "City not found.\n",
      "City not found.\n",
      "Processing Record 65 | lavrentiya\n",
      "City not found.\n",
      "Processing Record 66 | kodiak\n",
      "Processing Record 67 | hithadhoo\n",
      "Processing Record 68 | mogadishu\n",
      "Processing Record 69 | esperance\n",
      "City not found.\n",
      "Processing Record 70 | georgetown\n",
      "Processing Record 71 | cape town\n",
      "City not found.\n",
      "City not found.\n",
      "City not found.\n",
      "Processing Record 72 | kenai\n",
      "City not found.\n",
      "City not found.\n",
      "City not found.\n",
      "City not found.\n",
      "City not found.\n",
      "Processing Record 73 | iskateley\n",
      "Processing Record 74 | amderma\n",
      "City not found.\n",
      "Processing Record 75 | panaba\n",
      "City not found.\n",
      "Processing Record 76 | taolanaro\n",
      "Processing Record 77 | palabuhanratu\n",
      "Processing Record 78 | berlevag\n",
      "City not found.\n",
      "City not found.\n",
      "Processing Record 79 | airai\n",
      "City not found.\n",
      "Processing Record 80 | chokurdakh\n",
      "Processing Record 81 | lata\n",
      "City not found.\n",
      "Processing Record 82 | san quintin\n",
      "City not found.\n",
      "Processing Record 83 | avarua\n",
      "Processing Record 84 | kamenskoye\n",
      "Processing Record 85 | port hardy\n",
      "City not found.\n",
      "City not found.\n",
      "Processing Record 86 | saskylakh\n",
      "City not found.\n",
      "City not found.\n",
      "City not found.\n",
      "Processing Record 87 | saint-philippe\n",
      "City not found.\n",
      "City not found.\n",
      "Processing Record 88 | nome\n",
      "Processing Record 89 | college\n",
      "City not found.\n",
      "City not found.\n",
      "City not found.\n",
      "City not found.\n",
      "City not found.\n",
      "Processing Record 90 | sitka\n",
      "Processing Record 91 | meulaboh\n",
      "City not found.\n",
      "City not found.\n",
      "Processing Record 92 | castro\n",
      "Processing Record 93 | new norfolk\n",
      "Processing Record 94 | pisco\n",
      "Processing Record 95 | severo-kurilsk\n",
      "City not found.\n",
      "City not found.\n",
      "City not found.\n",
      "Processing Record 96 | port moresby\n",
      "Processing Record 97 | coihaique\n",
      "Processing Record 98 | vardo\n",
      "City not found.\n",
      "City not found.\n",
      "City not found.\n",
      "City not found.\n",
      "City not found.\n",
      "City not found.\n",
      "City not found.\n",
      "City not found.\n",
      "City not found.\n",
      "City not found.\n",
      "City not found.\n",
      "Processing Record 99 | lasa\n",
      "City not found.\n",
      "Processing Record 100 | ilulissat\n",
      "City not found.\n",
      "City not found.\n",
      "Processing Record 101 | vila franca do campo\n",
      "Processing Record 102 | narsaq\n",
      "Processing Record 103 | dikson\n",
      "Processing Record 104 | mahebourg\n",
      "Processing Record 105 | torbay\n",
      "City not found.\n",
      "City not found.\n",
      "City not found.\n",
      "Processing Record 106 | malartic\n",
      "City not found.\n",
      "Processing Record 107 | kamaishi\n",
      "City not found.\n",
      "Processing Record 108 | port alfred\n",
      "Processing Record 109 | ribeira grande\n",
      "Processing Record 110 | leningradskiy\n",
      "City not found.\n",
      "City not found.\n",
      "City not found.\n",
      "Processing Record 111 | provideniya\n",
      "Processing Record 112 | nanortalik\n",
      "Processing Record 113 | touros\n",
      "Processing Record 114 | vostok\n",
      "City not found.\n",
      "City not found.\n",
      "City not found.\n",
      "Processing Record 115 | vao\n",
      "Processing Record 116 | sentyabrskiy\n",
      "Processing Record 117 | haines junction\n",
      "City not found.\n",
      "City not found.\n",
      "Processing Record 118 | ketchikan\n",
      "City not found.\n",
      "Processing Record 119 | thompson\n",
      "Processing Record 120 | longyearbyen\n",
      "City not found.\n",
      "Processing Record 121 | quatre cocos\n",
      "Processing Record 122 | buin\n",
      "Processing Record 123 | tessalit\n",
      "City not found.\n",
      "City not found.\n",
      "City not found.\n",
      "Processing Record 124 | yerbogachen\n",
      "City not found.\n",
      "City not found.\n",
      "City not found.\n",
      "City not found.\n",
      "City not found.\n",
      "Processing Record 125 | bethel\n",
      "City not found.\n",
      "Processing Record 126 | nikolskoye\n",
      "City not found.\n",
      "City not found.\n",
      "City not found.\n",
      "City not found.\n",
      "City not found.\n",
      "City not found.\n",
      "City not found.\n",
      "City not found.\n",
      "City not found.\n",
      "City not found.\n",
      "City not found.\n",
      "City not found.\n",
      "Processing Record 127 | alofi\n",
      "City not found.\n",
      "City not found.\n",
      "Processing Record 128 | hirara\n",
      "Processing Record 129 | saleaula\n",
      "City not found.\n",
      "City not found.\n",
      "City not found.\n",
      "City not found.\n",
      "Processing Record 130 | san patricio\n",
      "City not found.\n",
      "Processing Record 131 | katsuura\n",
      "City not found.\n",
      "Processing Record 132 | arraial do cabo\n",
      "Processing Record 133 | hay river\n",
      "City not found.\n",
      "City not found.\n",
      "Processing Record 134 | samusu\n",
      "Processing Record 135 | fairbanks\n",
      "City not found.\n",
      "City not found.\n",
      "City not found.\n",
      "City not found.\n",
      "Processing Record 136 | vallenar\n",
      "City not found.\n",
      "City not found.\n",
      "City not found.\n",
      "Processing Record 137 | muros\n",
      "Processing Record 138 | banda aceh\n",
      "City not found.\n",
      "City not found.\n",
      "Processing Record 139 | vaitupu\n",
      "City not found.\n",
      "Processing Record 140 | komsomolskiy\n",
      "City not found.\n",
      "City not found.\n",
      "City not found.\n",
      "Processing Record 141 | saldanha\n",
      "City not found.\n",
      "City not found.\n",
      "City not found.\n",
      "Processing Record 142 | iqaluit\n",
      "Processing Record 143 | palu\n",
      "Processing Record 144 | port blair\n",
      "Processing Record 145 | port elizabeth\n",
      "City not found.\n",
      "City not found.\n",
      "City not found.\n",
      "Processing Record 146 | labuhan\n",
      "City not found.\n",
      "City not found.\n",
      "City not found.\n",
      "City not found.\n",
      "City not found.\n",
      "Processing Record 147 | luderitz\n",
      "Processing Record 148 | klaksvik\n",
      "City not found.\n",
      "City not found.\n",
      "City not found.\n",
      "City not found.\n",
      "City not found.\n",
      "City not found.\n",
      "City not found.\n",
      "City not found.\n",
      "Processing Record 149 | guerrero negro\n",
      "Processing Record 150 | biak\n",
      "Processing Record 151 | tuatapere\n",
      "City not found.\n",
      "City not found.\n",
      "City not found.\n",
      "Processing Record 152 | itarema\n",
      "City not found.\n",
      "City not found.\n",
      "Processing Record 153 | padang\n",
      "City not found.\n",
      "City not found.\n",
      "City not found.\n",
      "Processing Record 154 | roma\n",
      "City not found.\n",
      "City not found.\n",
      "Processing Record 155 | korla\n",
      "Processing Record 156 | clyde river\n",
      "City not found.\n",
      "City not found.\n",
      "City not found.\n",
      "City not found.\n",
      "City not found.\n",
      "Processing Record 157 | los llanos de aridane\n",
      "Processing Record 158 | roebourne\n",
      "City not found.\n"
     ]
    },
    {
     "name": "stdout",
     "output_type": "stream",
     "text": [
      "Processing Record 159 | marcona\n",
      "City not found.\n",
      "City not found.\n",
      "City not found.\n",
      "Processing Record 160 | isangel\n",
      "Processing Record 161 | namibe\n",
      "City not found.\n",
      "City not found.\n",
      "City not found.\n",
      "City not found.\n",
      "Processing Record 162 | yenagoa\n",
      "City not found.\n",
      "City not found.\n",
      "City not found.\n",
      "City not found.\n",
      "Processing Record 163 | bargal\n",
      "City not found.\n",
      "City not found.\n",
      "City not found.\n",
      "Processing Record 164 | tiksi\n",
      "Processing Record 165 | grand gaube\n",
      "City not found.\n",
      "City not found.\n",
      "City not found.\n",
      "City not found.\n",
      "City not found.\n",
      "City not found.\n",
      "City not found.\n",
      "Processing Record 166 | grand river south east\n",
      "City not found.\n",
      "City not found.\n",
      "Processing Record 167 | sorland\n",
      "City not found.\n",
      "Processing Record 168 | dakar\n",
      "Processing Record 169 | laguna\n",
      "City not found.\n",
      "City not found.\n",
      "City not found.\n",
      "City not found.\n",
      "City not found.\n",
      "City not found.\n",
      "City not found.\n",
      "City not found.\n",
      "Processing Record 170 | bubaque\n",
      "City not found.\n",
      "City not found.\n",
      "City not found.\n",
      "City not found.\n",
      "Processing Record 171 | norman wells\n",
      "City not found.\n",
      "Processing Record 172 | bengkulu\n",
      "City not found.\n",
      "City not found.\n",
      "Processing Record 173 | cidreira\n",
      "City not found.\n",
      "City not found.\n",
      "City not found.\n",
      "City not found.\n",
      "City not found.\n",
      "Processing Record 174 | tazovskiy\n",
      "City not found.\n",
      "City not found.\n",
      "City not found.\n",
      "City not found.\n",
      "Processing Record 175 | maun\n",
      "City not found.\n",
      "City not found.\n",
      "City not found.\n",
      "Processing Record 176 | vila velha\n",
      "Processing Record 177 | bur gabo\n",
      "City not found.\n",
      "Processing Record 178 | bilibino\n",
      "City not found.\n",
      "Processing Record 179 | cherskiy\n",
      "City not found.\n",
      "Processing Record 180 | namatanai\n",
      "City not found.\n",
      "Processing Record 181 | ahipara\n",
      "City not found.\n",
      "City not found.\n",
      "Processing Record 182 | kichera\n",
      "City not found.\n",
      "City not found.\n",
      "Processing Record 183 | comodoro rivadavia\n",
      "City not found.\n",
      "City not found.\n",
      "Processing Record 184 | kruisfontein\n",
      "City not found.\n",
      "City not found.\n",
      "Processing Record 185 | lebu\n",
      "City not found.\n",
      "City not found.\n",
      "City not found.\n",
      "City not found.\n",
      "City not found.\n",
      "Processing Record 186 | coquimbo\n",
      "Processing Record 187 | yulara\n",
      "City not found.\n",
      "City not found.\n",
      "City not found.\n",
      "City not found.\n",
      "City not found.\n",
      "Processing Record 188 | charters towers\n",
      "City not found.\n",
      "City not found.\n",
      "City not found.\n",
      "Processing Record 189 | ancud\n",
      "City not found.\n",
      "City not found.\n",
      "City not found.\n",
      "City not found.\n",
      "City not found.\n",
      "City not found.\n",
      "City not found.\n",
      "City not found.\n",
      "Processing Record 190 | saint-louis\n",
      "City not found.\n",
      "City not found.\n",
      "City not found.\n",
      "Processing Record 191 | bagdarin\n",
      "City not found.\n",
      "Processing Record 192 | kibala\n",
      "Processing Record 193 | mackay\n",
      "City not found.\n",
      "City not found.\n",
      "City not found.\n",
      "City not found.\n",
      "City not found.\n",
      "City not found.\n",
      "City not found.\n",
      "City not found.\n",
      "Processing Record 194 | pasni\n",
      "Processing Record 195 | tasiilaq\n",
      "City not found.\n",
      "City not found.\n",
      "City not found.\n",
      "Processing Record 196 | kapuskasing\n",
      "Processing Record 197 | kandrian\n",
      "City not found.\n",
      "City not found.\n",
      "City not found.\n",
      "City not found.\n",
      "City not found.\n",
      "Processing Record 198 | sawakin\n",
      "City not found.\n",
      "City not found.\n",
      "Processing Record 199 | viedma\n",
      "Processing Record 200 | morondava\n",
      "City not found.\n",
      "City not found.\n",
      "City not found.\n",
      "Processing Record 201 | grindavik\n",
      "City not found.\n",
      "City not found.\n",
      "City not found.\n",
      "City not found.\n",
      "City not found.\n",
      "City not found.\n",
      "City not found.\n",
      "City not found.\n",
      "Processing Record 202 | talcahuano\n",
      "Processing Record 203 | talaya\n",
      "City not found.\n",
      "Processing Record 204 | san jeronimo\n",
      "City not found.\n",
      "City not found.\n",
      "City not found.\n",
      "City not found.\n",
      "City not found.\n",
      "City not found.\n",
      "City not found.\n",
      "City not found.\n",
      "Processing Record 205 | broken hill\n",
      "City not found.\n",
      "City not found.\n",
      "City not found.\n",
      "Processing Record 206 | mnogovershinnyy\n",
      "City not found.\n",
      "Processing Record 207 | zyryanka\n",
      "City not found.\n",
      "City not found.\n",
      "Processing Record 208 | constitucion\n",
      "City not found.\n",
      "City not found.\n",
      "City not found.\n",
      "City not found.\n",
      "City not found.\n",
      "City not found.\n",
      "City not found.\n",
      "City not found.\n",
      "City not found.\n",
      "City not found.\n",
      "City not found.\n",
      "Processing Record 209 | oksfjord\n",
      "City not found.\n",
      "City not found.\n",
      "City not found.\n",
      "City not found.\n",
      "Processing Record 210 | pangnirtung\n",
      "Processing Record 211 | port macquarie\n",
      "City not found.\n",
      "Processing Record 212 | kiama\n",
      "Processing Record 213 | dianopolis\n",
      "Processing Record 214 | port lincoln\n",
      "Processing Record 215 | maceio\n",
      "City not found.\n",
      "Processing Record 216 | kavieng\n",
      "City not found.\n",
      "City not found.\n",
      "City not found.\n",
      "City not found.\n",
      "City not found.\n",
      "Processing Record 217 | sao filipe\n",
      "City not found.\n",
      "City not found.\n",
      "City not found.\n",
      "City not found.\n",
      "Processing Record 218 | bathsheba\n",
      "City not found.\n",
      "City not found.\n",
      "City not found.\n",
      "City not found.\n",
      "Processing Record 219 | almeirim\n",
      "City not found.\n",
      "City not found.\n",
      "City not found.\n",
      "City not found.\n",
      "City not found.\n",
      "City not found.\n",
      "City not found.\n",
      "City not found.\n",
      "City not found.\n",
      "City not found.\n",
      "City not found.\n",
      "City not found.\n",
      "City not found.\n",
      "City not found.\n",
      "Processing Record 220 | kloulklubed\n",
      "City not found.\n",
      "City not found.\n",
      "City not found.\n",
      "City not found.\n",
      "City not found.\n",
      "City not found.\n",
      "City not found.\n",
      "Processing Record 221 | kuche\n",
      "City not found.\n",
      "City not found.\n",
      "City not found.\n",
      "City not found.\n",
      "Processing Record 222 | umzimvubu\n",
      "City not found.\n",
      "City not found.\n",
      "City not found.\n",
      "City not found.\n",
      "City not found.\n",
      "City not found.\n",
      "City not found.\n",
      "City not found.\n",
      "City not found.\n",
      "City not found.\n",
      "Processing Record 223 | bud\n",
      "Processing Record 224 | mizdah\n",
      "Processing Record 225 | srednekolymsk\n",
      "City not found.\n",
      "City not found.\n",
      "City not found.\n",
      "City not found.\n",
      "City not found.\n"
     ]
    }
   ],
   "source": [
    "# Create base URL for open weather map API call\n",
    "query_url = \"http://api.openweathermap.org/data/2.5/weather?\"\n",
    " \n",
    "city_name = []\n",
    "clouds = []\n",
    "countries = []\n",
    "dates = []\n",
    "humidities = []\n",
    "lats = []\n",
    "lngs = []\n",
    "max_temps = []\n",
    "wind_speeds = []\n",
    "\n",
    "# Create record counter initialized at 1.\n",
    "record = 1\n",
    "sets = 1\n",
    "\n",
    "# Print statement for log.\n",
    "print(\"Beginning Data Retrieval\")\n",
    "\n",
    "new_url = query_url + \"appid=\" + weather_api_key + \"&q=\" + city\n",
    "weather_response = requests.get(query_url).json()\n",
    "    \n",
    "# Loop through all cities in cities list.\n",
    "for city in cities:\n",
    "    \n",
    "    # Try statement to append calls where values are found.\n",
    "    try:\n",
    "        response = requests.get(f'{new_url}&q={city}').json()\n",
    "        city_name.append(response['name'])\n",
    "        clouds.append(response['clouds']['all'])\n",
    "        countries.append(response['sys']['country'])\n",
    "        dates.append(response['dt'])\n",
    "        humidities.append(response['main']['humidity'])\n",
    "        lats.append(response['coord']['lat'])\n",
    "        lngs.append(response['coord']['lon'])\n",
    "        max_temps.append(response['main']['temp_max'])\n",
    "        wind_speeds.append(response['wind']['speed'])\n",
    "        \n",
    "        print(f'Processing Record {record} | {city}')\n",
    "        \n",
    "        # Increase record counter.\n",
    "        record += 1\n",
    "        \n",
    "             \n",
    "        \n",
    "    # If no record found for city, then skip.\n",
    "    except:\n",
    "        print('City not found.')\n",
    "    continue"
   ]
  },
  {
   "cell_type": "markdown",
   "metadata": {},
   "source": [
    "### Convert Raw Data to DataFrame\n",
    "* Export the city data into a .csv.\n",
    "* Display the DataFrame"
   ]
  },
  {
   "cell_type": "code",
   "execution_count": 4,
   "metadata": {},
   "outputs": [
    {
     "data": {
      "text/plain": [
       "City               225\n",
       "Cloudiness         225\n",
       "Country            225\n",
       "Date               225\n",
       "Humidity           225\n",
       "Lat                225\n",
       "Lng                225\n",
       "Max Temperature    225\n",
       "Wind Speed         225\n",
       "dtype: int64"
      ]
     },
     "execution_count": 4,
     "metadata": {},
     "output_type": "execute_result"
    }
   ],
   "source": [
    "weather_data = {\n",
    "    'City': city_name,\n",
    "    'Cloudiness': clouds,\n",
    "    'Country': countries,\n",
    "    'Date': dates,\n",
    "    'Humidity': humidities,\n",
    "    'Lat': lats,\n",
    "    'Lng': lngs,\n",
    "    'Max Temperature': max_temps,\n",
    "    'Wind Speed': wind_speeds\n",
    "}\n",
    "\n",
    "# Create new DF for values in dictionary.\n",
    "df_weather = pd.DataFrame(weather_data)\n",
    "\n",
    "# Display count of weather values per column.\n",
    "df_weather.count()\n"
   ]
  },
  {
   "cell_type": "code",
   "execution_count": 5,
   "metadata": {},
   "outputs": [],
   "source": [
    "# Save csv file.\n",
    "df_weather.to_csv('weather_data.csv')"
   ]
  },
  {
   "cell_type": "code",
   "execution_count": 6,
   "metadata": {
    "scrolled": true
   },
   "outputs": [
    {
     "data": {
      "text/html": [
       "<div>\n",
       "<style scoped>\n",
       "    .dataframe tbody tr th:only-of-type {\n",
       "        vertical-align: middle;\n",
       "    }\n",
       "\n",
       "    .dataframe tbody tr th {\n",
       "        vertical-align: top;\n",
       "    }\n",
       "\n",
       "    .dataframe thead th {\n",
       "        text-align: right;\n",
       "    }\n",
       "</style>\n",
       "<table border=\"1\" class=\"dataframe\">\n",
       "  <thead>\n",
       "    <tr style=\"text-align: right;\">\n",
       "      <th></th>\n",
       "      <th>City</th>\n",
       "      <th>Cloudiness</th>\n",
       "      <th>Country</th>\n",
       "      <th>Date</th>\n",
       "      <th>Humidity</th>\n",
       "      <th>Lat</th>\n",
       "      <th>Lng</th>\n",
       "      <th>Max Temperature</th>\n",
       "      <th>Wind Speed</th>\n",
       "    </tr>\n",
       "  </thead>\n",
       "  <tbody>\n",
       "    <tr>\n",
       "      <th>0</th>\n",
       "      <td>Cabo Rojo</td>\n",
       "      <td>45</td>\n",
       "      <td>PR</td>\n",
       "      <td>1667251249</td>\n",
       "      <td>86</td>\n",
       "      <td>18.0866</td>\n",
       "      <td>-67.1457</td>\n",
       "      <td>301.89</td>\n",
       "      <td>3.73</td>\n",
       "    </tr>\n",
       "    <tr>\n",
       "      <th>1</th>\n",
       "      <td>Barrow</td>\n",
       "      <td>0</td>\n",
       "      <td>US</td>\n",
       "      <td>1667251194</td>\n",
       "      <td>84</td>\n",
       "      <td>71.2906</td>\n",
       "      <td>-156.7887</td>\n",
       "      <td>252.16</td>\n",
       "      <td>6.69</td>\n",
       "    </tr>\n",
       "    <tr>\n",
       "      <th>2</th>\n",
       "      <td>Barrow</td>\n",
       "      <td>0</td>\n",
       "      <td>US</td>\n",
       "      <td>1667251193</td>\n",
       "      <td>84</td>\n",
       "      <td>71.2906</td>\n",
       "      <td>-156.7887</td>\n",
       "      <td>252.16</td>\n",
       "      <td>6.69</td>\n",
       "    </tr>\n",
       "    <tr>\n",
       "      <th>3</th>\n",
       "      <td>Cabo Rojo</td>\n",
       "      <td>45</td>\n",
       "      <td>PR</td>\n",
       "      <td>1667251250</td>\n",
       "      <td>86</td>\n",
       "      <td>18.0866</td>\n",
       "      <td>-67.1457</td>\n",
       "      <td>301.89</td>\n",
       "      <td>3.73</td>\n",
       "    </tr>\n",
       "    <tr>\n",
       "      <th>4</th>\n",
       "      <td>Barrow</td>\n",
       "      <td>0</td>\n",
       "      <td>US</td>\n",
       "      <td>1667251195</td>\n",
       "      <td>84</td>\n",
       "      <td>71.2906</td>\n",
       "      <td>-156.7887</td>\n",
       "      <td>252.16</td>\n",
       "      <td>6.69</td>\n",
       "    </tr>\n",
       "  </tbody>\n",
       "</table>\n",
       "</div>"
      ],
      "text/plain": [
       "        City  Cloudiness Country        Date  Humidity      Lat       Lng  \\\n",
       "0  Cabo Rojo          45      PR  1667251249        86  18.0866  -67.1457   \n",
       "1     Barrow           0      US  1667251194        84  71.2906 -156.7887   \n",
       "2     Barrow           0      US  1667251193        84  71.2906 -156.7887   \n",
       "3  Cabo Rojo          45      PR  1667251250        86  18.0866  -67.1457   \n",
       "4     Barrow           0      US  1667251195        84  71.2906 -156.7887   \n",
       "\n",
       "   Max Temperature  Wind Speed  \n",
       "0           301.89        3.73  \n",
       "1           252.16        6.69  \n",
       "2           252.16        6.69  \n",
       "3           301.89        3.73  \n",
       "4           252.16        6.69  "
      ]
     },
     "execution_count": 6,
     "metadata": {},
     "output_type": "execute_result"
    }
   ],
   "source": [
    "df_weather.head()\n"
   ]
  },
  {
   "cell_type": "markdown",
   "metadata": {},
   "source": [
    "## Inspect the data and remove the cities where the humidity > 100%.\n",
    "----\n",
    "Skip this step if there are no cities that have humidity > 100%. "
   ]
  },
  {
   "cell_type": "code",
   "execution_count": 7,
   "metadata": {},
   "outputs": [
    {
     "data": {
      "text/plain": [
       "count    225.000000\n",
       "mean      84.915556\n",
       "std        0.998650\n",
       "min       84.000000\n",
       "25%       84.000000\n",
       "50%       84.000000\n",
       "75%       86.000000\n",
       "max       86.000000\n",
       "Name: Humidity, dtype: float64"
      ]
     },
     "execution_count": 7,
     "metadata": {},
     "output_type": "execute_result"
    }
   ],
   "source": [
    "inspect_cities = df_weather[\"Humidity\"].describe(include = \"all\")\n",
    "inspect_cities"
   ]
  },
  {
   "cell_type": "code",
   "execution_count": 8,
   "metadata": {},
   "outputs": [],
   "source": [
    "#  Get the indices of cities that have humidity over 100%.\n"
   ]
  },
  {
   "cell_type": "code",
   "execution_count": 9,
   "metadata": {},
   "outputs": [],
   "source": [
    "# Make a new DataFrame equal to the city data to drop all humidity outliers by index.\n",
    "# Passing \"inplace=False\" will make a copy of the city_data DataFrame, which we call \"clean_city_data\".\n",
    "city2_df=inspect_cities.to_csv(\"../output_data/Retrieved_City_Weather_Data.csv\")\n",
    "city2_df"
   ]
  },
  {
   "cell_type": "markdown",
   "metadata": {},
   "source": [
    "## Plotting the Data\n",
    "* Use proper labeling of the plots using plot titles (including date of analysis) and axes labels.\n",
    "* Save the plotted figures as .pngs."
   ]
  },
  {
   "cell_type": "markdown",
   "metadata": {},
   "source": [
    "## Latitude vs. Temperature Plot"
   ]
  },
  {
   "cell_type": "code",
   "execution_count": 10,
   "metadata": {
    "scrolled": true
   },
   "outputs": [
    {
     "data": {
      "image/png": "[encoded data removed]",
      "text/plain": [
       "<Figure size 432x288 with 1 Axes>"
      ]
     },
     "metadata": {
      "needs_background": "light"
     },
     "output_type": "display_data"
    }
   ],
   "source": [
    "today = time.strftime(\"%m/%d/%Y\")\n",
    "plt.scatter(pd.to_numeric(df_weather[\"Lat\"]).astype(float), pd.to_numeric(df_weather[\"Max Temperature\"]).astype(float), facecolors=\"blue\", edgecolors=\"black\", alpha = 0.5)\n",
    "plt.xlabel(\"Latitude\")\n",
    "plt.ylabel(\"Max Temperature (F)\")\n",
    "plt.title(f\"City Latitude vs Max Temperature ({today})\")\n",
    "plt.show()"
   ]
  },
  {
   "cell_type": "markdown",
   "metadata": {},
   "source": [
    "## Latitude vs. Humidity Plot"
   ]
  },
  {
   "cell_type": "code",
   "execution_count": 11,
   "metadata": {},
   "outputs": [
    {
     "data": {
      "image/png": "[encoded data removed]",
      "text/plain": [
       "<Figure size 432x288 with 1 Axes>"
      ]
     },
     "metadata": {
      "needs_background": "light"
     },
     "output_type": "display_data"
    }
   ],
   "source": [
    "today = time.strftime(\"%m/%d/%Y\")\n",
    "plt.scatter(pd.to_numeric(df_weather[\"Lat\"]).astype(float), pd.to_numeric(df_weather[\"Humidity\"]).astype(float), facecolors=\"blue\", edgecolors=\"black\", alpha = 0.5)\n",
    "plt.xlabel(\"Latitude\")\n",
    "plt.ylabel(\"Humidity (%)\")\n",
    "plt.title(f\"City Latitude vs Humidity (%) ({today})\")\n",
    "plt.show()"
   ]
  },
  {
   "cell_type": "markdown",
   "metadata": {},
   "source": [
    "## Latitude vs. Cloudiness Plot"
   ]
  },
  {
   "cell_type": "code",
   "execution_count": 12,
   "metadata": {},
   "outputs": [
    {
     "data": {
      "image/png": "[encoded data removed]",
      "text/plain": [
       "<Figure size 432x288 with 1 Axes>"
      ]
     },
     "metadata": {
      "needs_background": "light"
     },
     "output_type": "display_data"
    }
   ],
   "source": [
    "today = time.strftime(\"%m/%d/%Y\")\n",
    "plt.scatter(pd.to_numeric(df_weather[\"Lat\"]).astype(float), pd.to_numeric(df_weather[\"Cloudiness\"]).astype(float), facecolors=\"blue\", edgecolors=\"black\", alpha = 0.5)\n",
    "plt.xlabel(\"Latitude\")\n",
    "plt.ylabel(\"Cloudiness (%)\")\n",
    "plt.title(f\"City Latitude vs Cloudiness ({today})\")\n",
    "\n",
    "\n",
    "plt.show()"
   ]
  },
  {
   "cell_type": "markdown",
   "metadata": {},
   "source": [
    "## Latitude vs. Wind Speed Plot"
   ]
  },
  {
   "cell_type": "code",
   "execution_count": 13,
   "metadata": {},
   "outputs": [
    {
     "data": {
      "image/png": "[encoded data removed]",
      "text/plain": [
       "<Figure size 432x288 with 1 Axes>"
      ]
     },
     "metadata": {
      "needs_background": "light"
     },
     "output_type": "display_data"
    }
   ],
   "source": [
    "today = time.strftime(\"%m/%d/%Y\")\n",
    "plt.scatter(pd.to_numeric(df_weather[\"Lat\"]).astype(float), pd.to_numeric(df_weather[\"Wind Speed\"]).astype(float), facecolors=\"blue\", edgecolors=\"black\", alpha = 0.5)\n",
    "plt.xlabel(\"Latitude\")\n",
    "plt.ylabel(\"Wind Speed\")\n",
    "plt.title(f\"City Latitude vs Wind Speed ({today})\")\n",
    "plt.show()"
   ]
  },
  {
   "cell_type": "markdown",
   "metadata": {},
   "source": [
    "## Linear Regression"
   ]
  },
  {
   "cell_type": "code",
   "execution_count": 14,
   "metadata": {},
   "outputs": [],
   "source": [
    "northern_df = df_weather.loc[pd.to_numeric(df_weather[\"Lat\"]).astype(float) > 0, :]\n",
    "southern_df = df_weather.loc[pd.to_numeric(df_weather[\"Lat\"]).astype(float) < 0, :]"
   ]
  },
  {
   "cell_type": "markdown",
   "metadata": {},
   "source": [
    "####  Northern Hemisphere - Max Temp vs. Latitude Linear Regression"
   ]
  },
  {
   "cell_type": "code",
   "execution_count": 15,
   "metadata": {},
   "outputs": [
    {
     "name": "stdout",
     "output_type": "stream",
     "text": [
      "Regression line equation is: y = -0.93x + 318.8\n",
      "The r-squared is: -0.9999999999999997\n",
      "The regression displays a negative correlation.\n",
      "In the nothern hemisphere, as you move away from the equator the temperature decreases.\n"
     ]
    },
    {
     "data": {
      "image/png": "[encoded data removed]",
      "text/plain": [
       "<Figure size 432x288 with 1 Axes>"
      ]
     },
     "metadata": {
      "needs_background": "light"
     },
     "output_type": "display_data"
    }
   ],
   "source": [
    "x_values = pd.to_numeric(northern_df['Lat']).astype(float)\n",
    "y_values = pd.to_numeric(northern_df['Max Temperature']).astype(float)\n",
    "(slope, intercept, rvalue, pvalue, stderr) = linregress(x_values, y_values)\n",
    "regress_values = x_values * slope + intercept\n",
    "line_eq = \"y = \" + str(round(slope,2)) + \"x + \" + str(round(intercept,2))\n",
    "print(f\"Regression line equation is: {line_eq}\")\n",
    "plt.scatter(x_values,y_values)\n",
    "plt.plot(x_values,regress_values,\"r-\")\n",
    "plt.annotate(line_eq,(6,10),fontsize=15,color=\"red\")\n",
    "plt.xlabel('Latitude')\n",
    "plt.ylabel('Max Temperature')\n",
    "plt.title('Northern Hemisphere - Max Temperature vs. Latitude Linear Regression')\n",
    "print(f\"The r-squared is: {rvalue}\")\n",
    "print(\"The regression displays a negative correlation.\")\n",
    "print(\"In the nothern hemisphere, as you move away from the equator the temperature decreases.\")\n",
    "plt.show()"
   ]
  },
  {
   "cell_type": "markdown",
   "metadata": {},
   "source": [
    "####  Southern Hemisphere - Max Temp vs. Latitude Linear Regression"
   ]
  },
  {
   "cell_type": "code",
   "execution_count": 19,
   "metadata": {},
   "outputs": [
    {
     "name": "stdout",
     "output_type": "stream",
     "text": [
      "Regression line equation is: y = -0.93x + 318.8\n",
      "The r-squared is: -0.9999999999999997\n",
      "The regression displays a positive correlation.\n",
      "In the southern hemisphere, as you get closer to the equator the temperature increases.\n"
     ]
    },
    {
     "data": {
      "image/png": "[encoded data removed]",
      "text/plain": [
       "<Figure size 432x288 with 1 Axes>"
      ]
     },
     "metadata": {
      "needs_background": "light"
     },
     "output_type": "display_data"
    }
   ],
   "source": [
    "x_values = pd.to_numeric(southern_df['Lat']).astype(float)\n",
    "y_values = pd.to_numeric(southern_df['Max Temperature']).astype(float)\n",
    "\n",
    "regress_values = x_values * slope + intercept\n",
    "line_eq = \"y = \" + str(round(slope,2)) + \"x + \" + str(round(intercept,2))\n",
    "print(f\"Regression line equation is: {line_eq}\")\n",
    "plt.scatter(x_values,y_values)\n",
    "plt.plot(x_values,regress_values,\"r-\")\n",
    "plt.annotate(line_eq,(6,10),fontsize=15,color=\"red\")\n",
    "plt.xlabel('Latitude')\n",
    "plt.ylabel('Max Temperature')\n",
    "plt.title('Southern Hemisphere - Max Temperature vs. Latitude Linear Regression')\n",
    "print(f\"The r-squared is: {rvalue}\")\n",
    "print(\"The regression displays a positive correlation.\")\n",
    "print(\"In the southern hemisphere, as you get closer to the equator the temperature increases.\")\n",
    "plt.show()"
   ]
  },
  {
   "cell_type": "markdown",
   "metadata": {},
   "source": [
    "####  Northern Hemisphere - Humidity (%) vs. Latitude Linear Regression"
   ]
  },
  {
   "cell_type": "code",
   "execution_count": 20,
   "metadata": {},
   "outputs": [
    {
     "name": "stdout",
     "output_type": "stream",
     "text": [
      "Regression line equation is: y = -0.04x + 86.68\n",
      "The r-squared is: -0.9999999999999998\n",
      "The regression does not display much of a correlation between the data sets.\n"
     ]
    },
    {
     "data": {
      "image/png": "[encoded data removed]",
      "text/plain": [
       "<Figure size 432x288 with 1 Axes>"
      ]
     },
     "metadata": {
      "needs_background": "light"
     },
     "output_type": "display_data"
    }
   ],
   "source": [
    "x_values = pd.to_numeric(northern_df['Lat']).astype(float)\n",
    "y_values = pd.to_numeric(northern_df['Humidity']).astype(float)\n",
    "(slope, intercept, rvalue, pvalue, stderr) = linregress(x_values, y_values)\n",
    "regress_values = x_values * slope + intercept\n",
    "line_eq = \"y = \" + str(round(slope,2)) + \"x + \" + str(round(intercept,2))\n",
    "print(f\"Regression line equation is: {line_eq}\")\n",
    "plt.scatter(x_values,y_values)\n",
    "plt.plot(x_values,regress_values,\"r-\")\n",
    "plt.annotate(line_eq,(6,10),fontsize=15,color=\"red\")\n",
    "plt.xlabel('Latitude')\n",
    "plt.ylabel('Humidity')\n",
    "plt.title('Northern Hemisphere - Humidity vs. Latitude Linear Regression')\n",
    "print(f\"The r-squared is: {rvalue}\")\n",
    "print(\"The regression does not display much of a correlation between the data sets.\") \n",
    "plt.show()"
   ]
  },
  {
   "cell_type": "markdown",
   "metadata": {},
   "source": [
    "####  Southern Hemisphere - Humidity (%) vs. Latitude Linear Regression"
   ]
  },
  {
   "cell_type": "code",
   "execution_count": 22,
   "metadata": {},
   "outputs": [
    {
     "name": "stdout",
     "output_type": "stream",
     "text": [
      "Regression line equation is: y = -0.04x + 86.68\n",
      "The r-squared is: -0.9999999999999998\n",
      "The regression does not display much of a correlation between the data sets.\n"
     ]
    },
    {
     "data": {
      "image/png": "[encoded data removed]",
      "text/plain": [
       "<Figure size 432x288 with 1 Axes>"
      ]
     },
     "metadata": {
      "needs_background": "light"
     },
     "output_type": "display_data"
    }
   ],
   "source": [
    "x_values = pd.to_numeric(southern_df['Lat']).astype(float)\n",
    "y_values = pd.to_numeric(southern_df['Humidity']).astype(float)\n",
    "\n",
    "regress_values = x_values * slope + intercept\n",
    "line_eq = \"y = \" + str(round(slope,2)) + \"x + \" + str(round(intercept,2))\n",
    "print(f\"Regression line equation is: {line_eq}\")\n",
    "plt.scatter(x_values,y_values)\n",
    "plt.plot(x_values,regress_values,\"r-\")\n",
    "plt.annotate(line_eq,(6,10),fontsize=15,color=\"red\")\n",
    "plt.xlabel('Latitude')\n",
    "plt.ylabel('Humidity')\n",
    "plt.title('Southern Hemisphere - Humidity vs. Latitude Linear Regression')\n",
    "print(f\"The r-squared is: {rvalue}\")\n",
    "print(\"The regression does not display much of a correlation between the data sets.\")\n",
    "plt.show()"
   ]
  },
  {
   "cell_type": "markdown",
   "metadata": {},
   "source": [
    "####  Northern Hemisphere - Cloudiness (%) vs. Latitude Linear Regression"
   ]
  },
  {
   "cell_type": "code",
   "execution_count": 23,
   "metadata": {},
   "outputs": [
    {
     "name": "stdout",
     "output_type": "stream",
     "text": [
      "Regression line equation is: y = -0.85x + 60.3\n",
      "The r-squared is: -0.9999999999999998\n",
      "The regression does not display much of a correlation between the data sets.\n"
     ]
    },
    {
     "data": {
      "image/png": "[encoded data removed]",
      "text/plain": [
       "<Figure size 432x288 with 1 Axes>"
      ]
     },
     "metadata": {
      "needs_background": "light"
     },
     "output_type": "display_data"
    }
   ],
   "source": [
    "x_values = pd.to_numeric(northern_df['Lat']).astype(float)\n",
    "y_values = pd.to_numeric(northern_df['Cloudiness']).astype(float)\n",
    "(slope, intercept, rvalue, pvalue, stderr) = linregress(x_values, y_values)\n",
    "regress_values = x_values * slope + intercept\n",
    "line_eq = \"y = \" + str(round(slope,2)) + \"x + \" + str(round(intercept,2))\n",
    "print(f\"Regression line equation is: {line_eq}\")\n",
    "plt.scatter(x_values,y_values)\n",
    "plt.plot(x_values,regress_values,\"r-\")\n",
    "plt.annotate(line_eq,(6,10),fontsize=15,color=\"red\")\n",
    "plt.xlabel('Latitude')\n",
    "plt.ylabel('Cloudiness')\n",
    "plt.title('Northern Hemisphere - Cloudiness vs. Latitude Linear Regression')\n",
    "print(f\"The r-squared is: {rvalue}\")\n",
    "print(\"The regression does not display much of a correlation between the data sets.\")\n",
    "plt.show()"
   ]
  },
  {
   "cell_type": "markdown",
   "metadata": {},
   "source": [
    "####  Southern Hemisphere - Cloudiness (%) vs. Latitude Linear Regression"
   ]
  },
  {
   "cell_type": "code",
   "execution_count": 25,
   "metadata": {},
   "outputs": [
    {
     "name": "stdout",
     "output_type": "stream",
     "text": [
      "Regression line equation is: y = -0.85x + 60.3\n",
      "The r-squared is: -0.9999999999999998\n",
      "The regression does not display much of a correlation between the data sets.\n"
     ]
    },
    {
     "data": {
      "image/png": "[encoded data removed]",
      "text/plain": [
       "<Figure size 432x288 with 1 Axes>"
      ]
     },
     "metadata": {
      "needs_background": "light"
     },
     "output_type": "display_data"
    }
   ],
   "source": [
    "x_values = pd.to_numeric(southern_df['Lat']).astype(float)\n",
    "y_values = pd.to_numeric(southern_df['Cloudiness']).astype(float)\n",
    "\n",
    "regress_values = x_values * slope + intercept\n",
    "line_eq = \"y = \" + str(round(slope,2)) + \"x + \" + str(round(intercept,2))\n",
    "print(f\"Regression line equation is: {line_eq}\")\n",
    "plt.scatter(x_values,y_values)\n",
    "plt.plot(x_values,regress_values,\"r-\")\n",
    "plt.annotate(line_eq,(6,10),fontsize=15,color=\"red\")\n",
    "plt.xlabel('Latitude')\n",
    "plt.ylabel('Cloudiness')\n",
    "plt.title('Southern Hemisphere - Cloudiness vs. Latitude Linear Regression')\n",
    "print(f\"The r-squared is: {rvalue}\")\n",
    "print(\"The regression does not display much of a correlation between the data sets.\")\n",
    "plt.show()"
   ]
  },
  {
   "cell_type": "markdown",
   "metadata": {},
   "source": [
    "####  Northern Hemisphere - Wind Speed (mph) vs. Latitude Linear Regression"
   ]
  },
  {
   "cell_type": "code",
   "execution_count": 27,
   "metadata": {},
   "outputs": [
    {
     "name": "stdout",
     "output_type": "stream",
     "text": [
      "Regression line equation is: y = -0.85x + 60.3\n",
      "The r-squared is: -0.9999999999999998\n",
      "The regression does not display much of a correlation between the data sets.\n"
     ]
    },
    {
     "data": {
      "image/png": "[encoded data removed]",
      "text/plain": [
       "<Figure size 432x288 with 1 Axes>"
      ]
     },
     "metadata": {
      "needs_background": "light"
     },
     "output_type": "display_data"
    }
   ],
   "source": [
    "x_values = pd.to_numeric(southern_df['Lat']).astype(float)\n",
    "y_values = pd.to_numeric(southern_df['Cloudiness']).astype(float)\n",
    "\n",
    "regress_values = x_values * slope + intercept\n",
    "line_eq = \"y = \" + str(round(slope,2)) + \"x + \" + str(round(intercept,2))\n",
    "print(f\"Regression line equation is: {line_eq}\")\n",
    "plt.scatter(x_values,y_values)\n",
    "plt.plot(x_values,regress_values,\"r-\")\n",
    "plt.annotate(line_eq,(6,10),fontsize=15,color=\"red\")\n",
    "plt.xlabel('Latitude')\n",
    "plt.ylabel('Cloudiness')\n",
    "plt.title('Southern Hemisphere - Cloudiness vs. Latitude Linear Regression')\n",
    "print(f\"The r-squared is: {rvalue}\")\n",
    "print(\"The regression does not display much of a correlation between the data sets.\")\n",
    "plt.show()"
   ]
  },
  {
   "cell_type": "markdown",
   "metadata": {},
   "source": [
    "####  Southern Hemisphere - Wind Speed (mph) vs. Latitude Linear Regression"
   ]
  },
  {
   "cell_type": "code",
   "execution_count": 29,
   "metadata": {},
   "outputs": [
    {
     "name": "stdout",
     "output_type": "stream",
     "text": [
      "Regression line equation is: y = -0.85x + 60.3\n",
      "The r-squared is: -0.9999999999999998\n",
      "The regression does not display much of a correlation between the data sets.\n"
     ]
    },
    {
     "data": {
      "text/plain": [
       "<function matplotlib.pyplot.show(close=None, block=None)>"
      ]
     },
     "execution_count": 29,
     "metadata": {},
     "output_type": "execute_result"
    },
    {
     "data": {
      "image/png": "[encoded data removed]",
      "text/plain": [
       "<Figure size 432x288 with 1 Axes>"
      ]
     },
     "metadata": {
      "needs_background": "light"
     },
     "output_type": "display_data"
    }
   ],
   "source": [
    "x_values = pd.to_numeric(southern_df['Lat']).astype(float)\n",
    "y_values = pd.to_numeric(southern_df['Wind Speed']).astype(float)\n",
    "\n",
    "regress_values = x_values * slope + intercept\n",
    "line_eq = \"y = \" + str(round(slope,2)) + \"x + \" + str(round(intercept,2))\n",
    "print(f\"Regression line equation is: {line_eq}\")\n",
    "plt.scatter(x_values,y_values)\n",
    "plt.plot(x_values,regress_values,\"r-\")\n",
    "plt.annotate(line_eq,(6,10),fontsize=15,color=\"red\")\n",
    "plt.xlabel('Latitude')\n",
    "plt.ylabel('Wind Speed')\n",
    "plt.title('Southern Hemisphere - Wind Speed vs. Latitude Linear Regression')\n",
    "print(f\"The r-squared is: {rvalue}\")\n",
    "print(\"The regression does not display much of a correlation between the data sets.\")\n",
    "plt.show"
   ]
  },
  {
   "cell_type": "code",
   "execution_count": null,
   "metadata": {},
   "outputs": [],
   "source": []
  }
 ],
 "metadata": {
  "anaconda-cloud": {},
  "kernel_info": {
   "name": "python3"
  },
  "kernelspec": {
   "display_name": "Python 3 (ipykernel)",
   "language": "python",
   "name": "python3"
  },
  "language_info": {
   "codemirror_mode": {
    "name": "ipython",
    "version": 3
   },
   "file_extension": ".py",
   "mimetype": "text/x-python",
   "name": "python",
   "nbconvert_exporter": "python",
   "pygments_lexer": "ipython3",
   "version": "3.9.12"
  },
  "latex_envs": {
   "LaTeX_envs_menu_present": true,
   "autoclose": false,
   "autocomplete": true,
   "bibliofile": "biblio.bib",
   "cite_by": "apalike",
   "current_citInitial": 1,
   "eqLabelWithNumbers": true,
   "eqNumInitial": 1,
   "hotkeys": {
    "equation": "Ctrl-E",
    "itemize": "Ctrl-I"
   },
   "labels_anchors": false,
   "latex_user_defs": false,
   "report_style_numbering": false,
   "user_envs_cfg": false
  },
  "nteract": {
   "version": "0.12.3"
  }
 },
 "nbformat": 4,
 "nbformat_minor": 2
}
